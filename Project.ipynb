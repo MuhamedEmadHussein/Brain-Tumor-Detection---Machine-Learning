{
 "cells": [
  {
   "cell_type": "code",
   "execution_count": 110,
   "id": "a72dbd3e",
   "metadata": {},
   "outputs": [],
   "source": [
    "import pandas as pd\n",
    "\n",
    "import matplotlib.pyplot as plt\n",
    "import seaborn as sns\n",
    "import numpy as np"
   ]
  },
  {
   "cell_type": "code",
   "execution_count": 111,
   "id": "2577256b",
   "metadata": {},
   "outputs": [],
   "source": [
    "df = pd.read_csv(\"Brain Tumor.csv\")\n",
    "df = df.drop([\"Image\"], axis=1)\n",
    "#df = df.drop(df.columns[6:], axis=1) ### ignore second order features"
   ]
  },
  {
   "cell_type": "code",
   "execution_count": 112,
   "id": "14df6df8",
   "metadata": {
    "scrolled": true
   },
   "outputs": [
    {
     "data": {
      "text/html": [
       "<div>\n",
       "<style scoped>\n",
       "    .dataframe tbody tr th:only-of-type {\n",
       "        vertical-align: middle;\n",
       "    }\n",
       "\n",
       "    .dataframe tbody tr th {\n",
       "        vertical-align: top;\n",
       "    }\n",
       "\n",
       "    .dataframe thead th {\n",
       "        text-align: right;\n",
       "    }\n",
       "</style>\n",
       "<table border=\"1\" class=\"dataframe\">\n",
       "  <thead>\n",
       "    <tr style=\"text-align: right;\">\n",
       "      <th></th>\n",
       "      <th>Class</th>\n",
       "      <th>Mean</th>\n",
       "      <th>Variance</th>\n",
       "      <th>Standard Deviation</th>\n",
       "      <th>Entropy</th>\n",
       "      <th>Skewness</th>\n",
       "      <th>Kurtosis</th>\n",
       "      <th>Contrast</th>\n",
       "      <th>Energy</th>\n",
       "      <th>ASM</th>\n",
       "      <th>Homogeneity</th>\n",
       "      <th>Dissimilarity</th>\n",
       "      <th>Correlation</th>\n",
       "      <th>Coarseness</th>\n",
       "    </tr>\n",
       "  </thead>\n",
       "  <tbody>\n",
       "    <tr>\n",
       "      <th>0</th>\n",
       "      <td>0</td>\n",
       "      <td>6.535339</td>\n",
       "      <td>619.587845</td>\n",
       "      <td>24.891522</td>\n",
       "      <td>0.109059</td>\n",
       "      <td>4.276477</td>\n",
       "      <td>18.900575</td>\n",
       "      <td>98.613971</td>\n",
       "      <td>0.293314</td>\n",
       "      <td>0.086033</td>\n",
       "      <td>0.530941</td>\n",
       "      <td>4.473346</td>\n",
       "      <td>0.981939</td>\n",
       "      <td>7.458341e-155</td>\n",
       "    </tr>\n",
       "    <tr>\n",
       "      <th>1</th>\n",
       "      <td>0</td>\n",
       "      <td>8.749969</td>\n",
       "      <td>805.957634</td>\n",
       "      <td>28.389393</td>\n",
       "      <td>0.266538</td>\n",
       "      <td>3.718116</td>\n",
       "      <td>14.464618</td>\n",
       "      <td>63.858816</td>\n",
       "      <td>0.475051</td>\n",
       "      <td>0.225674</td>\n",
       "      <td>0.651352</td>\n",
       "      <td>3.220072</td>\n",
       "      <td>0.988834</td>\n",
       "      <td>7.458341e-155</td>\n",
       "    </tr>\n",
       "    <tr>\n",
       "      <th>2</th>\n",
       "      <td>1</td>\n",
       "      <td>7.341095</td>\n",
       "      <td>1143.808219</td>\n",
       "      <td>33.820234</td>\n",
       "      <td>0.001467</td>\n",
       "      <td>5.061750</td>\n",
       "      <td>26.479563</td>\n",
       "      <td>81.867206</td>\n",
       "      <td>0.031917</td>\n",
       "      <td>0.001019</td>\n",
       "      <td>0.268275</td>\n",
       "      <td>5.981800</td>\n",
       "      <td>0.978014</td>\n",
       "      <td>7.458341e-155</td>\n",
       "    </tr>\n",
       "    <tr>\n",
       "      <th>3</th>\n",
       "      <td>1</td>\n",
       "      <td>5.958145</td>\n",
       "      <td>959.711985</td>\n",
       "      <td>30.979219</td>\n",
       "      <td>0.001477</td>\n",
       "      <td>5.677977</td>\n",
       "      <td>33.428845</td>\n",
       "      <td>151.229741</td>\n",
       "      <td>0.032024</td>\n",
       "      <td>0.001026</td>\n",
       "      <td>0.243851</td>\n",
       "      <td>7.700919</td>\n",
       "      <td>0.964189</td>\n",
       "      <td>7.458341e-155</td>\n",
       "    </tr>\n",
       "    <tr>\n",
       "      <th>4</th>\n",
       "      <td>0</td>\n",
       "      <td>7.315231</td>\n",
       "      <td>729.540579</td>\n",
       "      <td>27.010009</td>\n",
       "      <td>0.146761</td>\n",
       "      <td>4.283221</td>\n",
       "      <td>19.079108</td>\n",
       "      <td>174.988756</td>\n",
       "      <td>0.343849</td>\n",
       "      <td>0.118232</td>\n",
       "      <td>0.501140</td>\n",
       "      <td>6.834689</td>\n",
       "      <td>0.972789</td>\n",
       "      <td>7.458341e-155</td>\n",
       "    </tr>\n",
       "  </tbody>\n",
       "</table>\n",
       "</div>"
      ],
      "text/plain": [
       "   Class      Mean     Variance  Standard Deviation   Entropy  Skewness  \\\n",
       "0      0  6.535339   619.587845           24.891522  0.109059  4.276477   \n",
       "1      0  8.749969   805.957634           28.389393  0.266538  3.718116   \n",
       "2      1  7.341095  1143.808219           33.820234  0.001467  5.061750   \n",
       "3      1  5.958145   959.711985           30.979219  0.001477  5.677977   \n",
       "4      0  7.315231   729.540579           27.010009  0.146761  4.283221   \n",
       "\n",
       "    Kurtosis    Contrast    Energy       ASM  Homogeneity  Dissimilarity  \\\n",
       "0  18.900575   98.613971  0.293314  0.086033     0.530941       4.473346   \n",
       "1  14.464618   63.858816  0.475051  0.225674     0.651352       3.220072   \n",
       "2  26.479563   81.867206  0.031917  0.001019     0.268275       5.981800   \n",
       "3  33.428845  151.229741  0.032024  0.001026     0.243851       7.700919   \n",
       "4  19.079108  174.988756  0.343849  0.118232     0.501140       6.834689   \n",
       "\n",
       "   Correlation     Coarseness  \n",
       "0     0.981939  7.458341e-155  \n",
       "1     0.988834  7.458341e-155  \n",
       "2     0.978014  7.458341e-155  \n",
       "3     0.964189  7.458341e-155  \n",
       "4     0.972789  7.458341e-155  "
      ]
     },
     "execution_count": 112,
     "metadata": {},
     "output_type": "execute_result"
    }
   ],
   "source": [
    "df.head()"
   ]
  },
  {
   "cell_type": "code",
   "execution_count": 113,
   "id": "50f3564e",
   "metadata": {},
   "outputs": [
    {
     "name": "stdout",
     "output_type": "stream",
     "text": [
      "<class 'pandas.core.frame.DataFrame'>\n",
      "RangeIndex: 3762 entries, 0 to 3761\n",
      "Data columns (total 14 columns):\n",
      " #   Column              Non-Null Count  Dtype  \n",
      "---  ------              --------------  -----  \n",
      " 0   Class               3762 non-null   int64  \n",
      " 1   Mean                3762 non-null   float64\n",
      " 2   Variance            3762 non-null   float64\n",
      " 3   Standard Deviation  3762 non-null   float64\n",
      " 4   Entropy             3762 non-null   float64\n",
      " 5   Skewness            3762 non-null   float64\n",
      " 6   Kurtosis            3762 non-null   float64\n",
      " 7   Contrast            3762 non-null   float64\n",
      " 8   Energy              3762 non-null   float64\n",
      " 9   ASM                 3762 non-null   float64\n",
      " 10  Homogeneity         3762 non-null   float64\n",
      " 11  Dissimilarity       3762 non-null   float64\n",
      " 12  Correlation         3762 non-null   float64\n",
      " 13  Coarseness          3762 non-null   float64\n",
      "dtypes: float64(13), int64(1)\n",
      "memory usage: 411.6 KB\n"
     ]
    }
   ],
   "source": [
    "df.info()"
   ]
  },
  {
   "cell_type": "code",
   "execution_count": 114,
   "id": "21ce4bcb",
   "metadata": {},
   "outputs": [
    {
     "data": {
      "text/html": [
       "<div>\n",
       "<style scoped>\n",
       "    .dataframe tbody tr th:only-of-type {\n",
       "        vertical-align: middle;\n",
       "    }\n",
       "\n",
       "    .dataframe tbody tr th {\n",
       "        vertical-align: top;\n",
       "    }\n",
       "\n",
       "    .dataframe thead th {\n",
       "        text-align: right;\n",
       "    }\n",
       "</style>\n",
       "<table border=\"1\" class=\"dataframe\">\n",
       "  <thead>\n",
       "    <tr style=\"text-align: right;\">\n",
       "      <th></th>\n",
       "      <th>Class</th>\n",
       "      <th>Mean</th>\n",
       "      <th>Variance</th>\n",
       "      <th>Standard Deviation</th>\n",
       "      <th>Entropy</th>\n",
       "      <th>Skewness</th>\n",
       "      <th>Kurtosis</th>\n",
       "      <th>Contrast</th>\n",
       "      <th>Energy</th>\n",
       "      <th>ASM</th>\n",
       "      <th>Homogeneity</th>\n",
       "      <th>Dissimilarity</th>\n",
       "      <th>Correlation</th>\n",
       "      <th>Coarseness</th>\n",
       "    </tr>\n",
       "  </thead>\n",
       "  <tbody>\n",
       "    <tr>\n",
       "      <th>count</th>\n",
       "      <td>3762.000000</td>\n",
       "      <td>3762.000000</td>\n",
       "      <td>3762.000000</td>\n",
       "      <td>3762.000000</td>\n",
       "      <td>3762.000000</td>\n",
       "      <td>3762.000000</td>\n",
       "      <td>3762.000000</td>\n",
       "      <td>3762.000000</td>\n",
       "      <td>3762.000000</td>\n",
       "      <td>3762.000000</td>\n",
       "      <td>3762.000000</td>\n",
       "      <td>3762.000000</td>\n",
       "      <td>3762.000000</td>\n",
       "      <td>3.762000e+03</td>\n",
       "    </tr>\n",
       "    <tr>\n",
       "      <th>mean</th>\n",
       "      <td>0.447368</td>\n",
       "      <td>9.488890</td>\n",
       "      <td>711.101063</td>\n",
       "      <td>25.182271</td>\n",
       "      <td>0.073603</td>\n",
       "      <td>4.102727</td>\n",
       "      <td>24.389071</td>\n",
       "      <td>127.961459</td>\n",
       "      <td>0.204705</td>\n",
       "      <td>0.058632</td>\n",
       "      <td>0.479252</td>\n",
       "      <td>4.698498</td>\n",
       "      <td>0.955767</td>\n",
       "      <td>7.458341e-155</td>\n",
       "    </tr>\n",
       "    <tr>\n",
       "      <th>std</th>\n",
       "      <td>0.497288</td>\n",
       "      <td>5.728022</td>\n",
       "      <td>467.466896</td>\n",
       "      <td>8.773526</td>\n",
       "      <td>0.070269</td>\n",
       "      <td>2.560940</td>\n",
       "      <td>56.434747</td>\n",
       "      <td>109.499601</td>\n",
       "      <td>0.129352</td>\n",
       "      <td>0.058300</td>\n",
       "      <td>0.127929</td>\n",
       "      <td>1.850173</td>\n",
       "      <td>0.026157</td>\n",
       "      <td>0.000000e+00</td>\n",
       "    </tr>\n",
       "    <tr>\n",
       "      <th>min</th>\n",
       "      <td>0.000000</td>\n",
       "      <td>0.078659</td>\n",
       "      <td>3.145628</td>\n",
       "      <td>1.773592</td>\n",
       "      <td>0.000882</td>\n",
       "      <td>1.886014</td>\n",
       "      <td>3.942402</td>\n",
       "      <td>3.194733</td>\n",
       "      <td>0.024731</td>\n",
       "      <td>0.000612</td>\n",
       "      <td>0.105490</td>\n",
       "      <td>0.681121</td>\n",
       "      <td>0.549426</td>\n",
       "      <td>7.458341e-155</td>\n",
       "    </tr>\n",
       "    <tr>\n",
       "      <th>25%</th>\n",
       "      <td>0.000000</td>\n",
       "      <td>4.982395</td>\n",
       "      <td>363.225459</td>\n",
       "      <td>19.058475</td>\n",
       "      <td>0.006856</td>\n",
       "      <td>2.620203</td>\n",
       "      <td>7.252852</td>\n",
       "      <td>72.125208</td>\n",
       "      <td>0.069617</td>\n",
       "      <td>0.004847</td>\n",
       "      <td>0.364973</td>\n",
       "      <td>3.412363</td>\n",
       "      <td>0.947138</td>\n",
       "      <td>7.458341e-155</td>\n",
       "    </tr>\n",
       "    <tr>\n",
       "      <th>50%</th>\n",
       "      <td>0.000000</td>\n",
       "      <td>8.477531</td>\n",
       "      <td>622.580417</td>\n",
       "      <td>24.951560</td>\n",
       "      <td>0.066628</td>\n",
       "      <td>3.422210</td>\n",
       "      <td>12.359088</td>\n",
       "      <td>106.737418</td>\n",
       "      <td>0.225496</td>\n",
       "      <td>0.050849</td>\n",
       "      <td>0.512551</td>\n",
       "      <td>4.482404</td>\n",
       "      <td>0.961610</td>\n",
       "      <td>7.458341e-155</td>\n",
       "    </tr>\n",
       "    <tr>\n",
       "      <th>75%</th>\n",
       "      <td>1.000000</td>\n",
       "      <td>13.212723</td>\n",
       "      <td>966.954319</td>\n",
       "      <td>31.095889</td>\n",
       "      <td>0.113284</td>\n",
       "      <td>4.651737</td>\n",
       "      <td>22.640304</td>\n",
       "      <td>161.059006</td>\n",
       "      <td>0.298901</td>\n",
       "      <td>0.089342</td>\n",
       "      <td>0.575557</td>\n",
       "      <td>5.723821</td>\n",
       "      <td>0.971355</td>\n",
       "      <td>7.458341e-155</td>\n",
       "    </tr>\n",
       "    <tr>\n",
       "      <th>max</th>\n",
       "      <td>1.000000</td>\n",
       "      <td>33.239975</td>\n",
       "      <td>2910.581879</td>\n",
       "      <td>53.949809</td>\n",
       "      <td>0.394539</td>\n",
       "      <td>36.931294</td>\n",
       "      <td>1371.640060</td>\n",
       "      <td>3382.574163</td>\n",
       "      <td>0.589682</td>\n",
       "      <td>0.347725</td>\n",
       "      <td>0.810921</td>\n",
       "      <td>27.827751</td>\n",
       "      <td>0.989972</td>\n",
       "      <td>7.458341e-155</td>\n",
       "    </tr>\n",
       "  </tbody>\n",
       "</table>\n",
       "</div>"
      ],
      "text/plain": [
       "             Class         Mean     Variance  Standard Deviation      Entropy  \\\n",
       "count  3762.000000  3762.000000  3762.000000         3762.000000  3762.000000   \n",
       "mean      0.447368     9.488890   711.101063           25.182271     0.073603   \n",
       "std       0.497288     5.728022   467.466896            8.773526     0.070269   \n",
       "min       0.000000     0.078659     3.145628            1.773592     0.000882   \n",
       "25%       0.000000     4.982395   363.225459           19.058475     0.006856   \n",
       "50%       0.000000     8.477531   622.580417           24.951560     0.066628   \n",
       "75%       1.000000    13.212723   966.954319           31.095889     0.113284   \n",
       "max       1.000000    33.239975  2910.581879           53.949809     0.394539   \n",
       "\n",
       "          Skewness     Kurtosis     Contrast       Energy          ASM  \\\n",
       "count  3762.000000  3762.000000  3762.000000  3762.000000  3762.000000   \n",
       "mean      4.102727    24.389071   127.961459     0.204705     0.058632   \n",
       "std       2.560940    56.434747   109.499601     0.129352     0.058300   \n",
       "min       1.886014     3.942402     3.194733     0.024731     0.000612   \n",
       "25%       2.620203     7.252852    72.125208     0.069617     0.004847   \n",
       "50%       3.422210    12.359088   106.737418     0.225496     0.050849   \n",
       "75%       4.651737    22.640304   161.059006     0.298901     0.089342   \n",
       "max      36.931294  1371.640060  3382.574163     0.589682     0.347725   \n",
       "\n",
       "       Homogeneity  Dissimilarity  Correlation     Coarseness  \n",
       "count  3762.000000    3762.000000  3762.000000   3.762000e+03  \n",
       "mean      0.479252       4.698498     0.955767  7.458341e-155  \n",
       "std       0.127929       1.850173     0.026157   0.000000e+00  \n",
       "min       0.105490       0.681121     0.549426  7.458341e-155  \n",
       "25%       0.364973       3.412363     0.947138  7.458341e-155  \n",
       "50%       0.512551       4.482404     0.961610  7.458341e-155  \n",
       "75%       0.575557       5.723821     0.971355  7.458341e-155  \n",
       "max       0.810921      27.827751     0.989972  7.458341e-155  "
      ]
     },
     "execution_count": 114,
     "metadata": {},
     "output_type": "execute_result"
    }
   ],
   "source": [
    "df.describe()"
   ]
  },
  {
   "cell_type": "code",
   "execution_count": 115,
   "id": "e931749e",
   "metadata": {},
   "outputs": [
    {
     "data": {
      "image/png": "[encoded data removed]",
      "text/plain": [
       "<Figure size 504x504 with 1 Axes>"
      ]
     },
     "metadata": {},
     "output_type": "display_data"
    }
   ],
   "source": [
    "plt.figure(figsize=(7,7))\n",
    "plt.pie(df['Class'].value_counts(), labels=['Normal', 'Heart Disease'], autopct='%1.1f%%')\n",
    "plt.show()"
   ]
  },
  {
   "cell_type": "markdown",
   "id": "2f62cb85",
   "metadata": {},
   "source": [
    "### train test split"
   ]
  },
  {
   "cell_type": "code",
   "execution_count": 116,
   "id": "1c4cb5fb",
   "metadata": {},
   "outputs": [],
   "source": [
    "from sklearn.model_selection import train_test_split"
   ]
  },
  {
   "cell_type": "code",
   "execution_count": 117,
   "id": "f1295964",
   "metadata": {},
   "outputs": [],
   "source": [
    "xtrain, xtest, ytrain, ytest = train_test_split(df.drop(\"Class\",axis=1), df.Class, test_size=0.25, random_state=7)"
   ]
  },
  {
   "cell_type": "markdown",
   "id": "6670c428",
   "metadata": {},
   "source": [
    "##### scaling data"
   ]
  },
  {
   "cell_type": "code",
   "execution_count": null,
   "id": "ad6157fe",
   "metadata": {},
   "outputs": [],
   "source": [
    "from sklearn.preprocessing import StandardScaler, MinMaxScaler"
   ]
  },
  {
   "cell_type": "code",
   "execution_count": 118,
   "id": "a8a2df2b",
   "metadata": {},
   "outputs": [],
   "source": [
    "scaler = StandardScaler()\n",
    "xtrain = scaler.fit_transform(xtrain)\n",
    "xtest = scaler.fit_transform(xtest)"
   ]
  },
  {
   "cell_type": "markdown",
   "id": "83d6a5e9",
   "metadata": {},
   "source": [
    "## Creating Models"
   ]
  },
  {
   "cell_type": "code",
   "execution_count": 119,
   "id": "220efc0c",
   "metadata": {},
   "outputs": [],
   "source": [
    "from sklearn.linear_model import LogisticRegression\n",
    "from sklearn.tree import DecisionTreeClassifier\n",
    "from sklearn.ensemble import RandomForestClassifier\n",
    "from sklearn.svm import SVC\n",
    "from sklearn.neighbors import KNeighborsClassifier\n",
    "from sklearn.neural_network import MLPClassifier\n",
    "from sklearn.discriminant_analysis import LinearDiscriminantAnalysis\n",
    "from sklearn.naive_bayes import GaussianNB\n",
    "\n",
    "from sklearn.metrics import accuracy_score, confusion_matrix, classification_report"
   ]
  },
  {
   "cell_type": "code",
   "execution_count": 120,
   "id": "414350e4",
   "metadata": {},
   "outputs": [],
   "source": [
    "trainAccuracyMap = {}\n",
    "testAccuracyMap = {}\n",
    "FalseNegativeMap = {}"
   ]
  },
  {
   "cell_type": "markdown",
   "id": "9f67b32a",
   "metadata": {},
   "source": [
    "### SVC Model"
   ]
  },
  {
   "cell_type": "code",
   "execution_count": 121,
   "id": "fee9e91d",
   "metadata": {},
   "outputs": [
    {
     "name": "stdout",
     "output_type": "stream",
     "text": [
      "train score : 0.988656504785537\n",
      "test score : 0.9787460148777896\n"
     ]
    }
   ],
   "source": [
    "model = SVC(C=1000, gamma=1, kernel='linear') # used grid search to find best parameters (Hyper Parameters Tuning)\n",
    "model.fit(xtrain, ytrain)\n",
    "print(f\"train score : {model.score(xtrain, ytrain)}\")\n",
    "print(f\"test score : {model.score(xtest, ytest)}\")\n",
    "\n",
    "trainAccuracyMap[\"SVC\"] = model.score(xtrain, ytrain)\n",
    "testAccuracyMap [\"SVC\"] = model.score(xtest, ytest)"
   ]
  },
  {
   "cell_type": "code",
   "execution_count": 122,
   "id": "06a63c65",
   "metadata": {},
   "outputs": [
    {
     "data": {
      "text/plain": [
       "<AxesSubplot:>"
      ]
     },
     "execution_count": 122,
     "metadata": {},
     "output_type": "execute_result"
    },
    {
     "data": {
      "image/png": "[encoded data removed]",
      "text/plain": [
       "<Figure size 432x288 with 1 Axes>"
      ]
     },
     "metadata": {
      "needs_background": "light"
     },
     "output_type": "display_data"
    }
   ],
   "source": [
    "ypredicted = model.predict(xtest)\n",
    "ConfusionMatrix = confusion_matrix(ytest, ypredicted)\n",
    "FalseNegativeMap[\"SVC\"] = ConfusionMatrix[1][0]\n",
    "sns.heatmap(ConfusionMatrix, square=True, annot=True, cmap='Blues', fmt='d', cbar=False, xticklabels=['Normal', 'Heart Disease'], yticklabels=['Normal', 'Heart Disease'])"
   ]
  },
  {
   "cell_type": "code",
   "execution_count": 123,
   "id": "f3a309a4",
   "metadata": {},
   "outputs": [
    {
     "name": "stdout",
     "output_type": "stream",
     "text": [
      "               precision    recall  f1-score   support\n",
      "\n",
      "       Normal     0.9732    0.9883    0.9807       514\n",
      "Heart Disease     0.9857    0.9672    0.9764       427\n",
      "\n",
      "     accuracy                         0.9787       941\n",
      "    macro avg     0.9794    0.9778    0.9785       941\n",
      " weighted avg     0.9789    0.9787    0.9787       941\n",
      "\n"
     ]
    }
   ],
   "source": [
    "print(classification_report(ytest, ypredicted, target_names=['Normal', 'Heart Disease'], digits=4))"
   ]
  },
  {
   "cell_type": "markdown",
   "id": "4d6542c8",
   "metadata": {},
   "source": [
    "### Logistic Regression Model"
   ]
  },
  {
   "cell_type": "code",
   "execution_count": 124,
   "id": "483145d9",
   "metadata": {},
   "outputs": [
    {
     "name": "stdout",
     "output_type": "stream",
     "text": [
      "train score : 0.9861751152073732\n",
      "test score : 0.9744952178533475\n"
     ]
    }
   ],
   "source": [
    "model = LogisticRegression(max_iter=400)\n",
    "model.fit(xtrain, ytrain)\n",
    "print(f\"train score : {model.score(xtrain, ytrain)}\")\n",
    "print(f\"test score : {model.score(xtest, ytest)}\")\n",
    "\n",
    "trainAccuracyMap[\"Logistic Regression\"] = model.score(xtrain, ytrain)\n",
    "testAccuracyMap [\"Logistic Regression\"] = model.score(xtest, ytest)"
   ]
  },
  {
   "cell_type": "code",
   "execution_count": 125,
   "id": "5e9618a4",
   "metadata": {},
   "outputs": [
    {
     "data": {
      "text/plain": [
       "<AxesSubplot:>"
      ]
     },
     "execution_count": 125,
     "metadata": {},
     "output_type": "execute_result"
    },
    {
     "data": {
      "image/png": "[encoded data removed]",
      "text/plain": [
       "<Figure size 432x288 with 1 Axes>"
      ]
     },
     "metadata": {
      "needs_background": "light"
     },
     "output_type": "display_data"
    }
   ],
   "source": [
    "ypredicted = model.predict(xtest)\n",
    "ConfusionMatrix = confusion_matrix(ytest, ypredicted)\n",
    "FalseNegativeMap[\"Logistic Regression\"] = ConfusionMatrix[1][0]\n",
    "sns.heatmap(ConfusionMatrix, square=True, annot=True, cmap='Blues', fmt='d', cbar=False, xticklabels=['Normal', 'Heart Disease'], yticklabels=['Normal', 'Heart Disease'])"
   ]
  },
  {
   "cell_type": "code",
   "execution_count": 126,
   "id": "84769ac1",
   "metadata": {},
   "outputs": [
    {
     "name": "stdout",
     "output_type": "stream",
     "text": [
      "               precision    recall  f1-score   support\n",
      "\n",
      "       Normal     0.9640    0.9903    0.9770       514\n",
      "Heart Disease     0.9879    0.9555    0.9714       427\n",
      "\n",
      "     accuracy                         0.9745       941\n",
      "    macro avg     0.9760    0.9729    0.9742       941\n",
      " weighted avg     0.9749    0.9745    0.9745       941\n",
      "\n"
     ]
    }
   ],
   "source": [
    "print(classification_report(ytest, ypredicted, target_names=['Normal', 'Heart Disease'], digits=4))"
   ]
  },
  {
   "cell_type": "markdown",
   "id": "4643cd95",
   "metadata": {},
   "source": [
    "### Decision Tree Model"
   ]
  },
  {
   "cell_type": "code",
   "execution_count": 127,
   "id": "9df15a8c",
   "metadata": {},
   "outputs": [
    {
     "name": "stdout",
     "output_type": "stream",
     "text": [
      "train score : 0.9989365473236441\n",
      "test score : 0.971307120085016\n"
     ]
    }
   ],
   "source": [
    "model = DecisionTreeClassifier(max_depth=10)\n",
    "model.fit(xtrain, ytrain)\n",
    "print(f\"train score : {model.score(xtrain, ytrain)}\")\n",
    "print(f\"test score : {model.score(xtest, ytest)}\")\n",
    "\n",
    "trainAccuracyMap[\"Decision Tree\"] = model.score(xtrain, ytrain)\n",
    "testAccuracyMap [\"Decision Tree\"] = model.score(xtest, ytest)"
   ]
  },
  {
   "cell_type": "code",
   "execution_count": 128,
   "id": "d1c88fe5",
   "metadata": {},
   "outputs": [
    {
     "data": {
      "text/plain": [
       "<AxesSubplot:>"
      ]
     },
     "execution_count": 128,
     "metadata": {},
     "output_type": "execute_result"
    },
    {
     "data": {
      "image/png": "[encoded data removed]",
      "text/plain": [
       "<Figure size 432x288 with 1 Axes>"
      ]
     },
     "metadata": {
      "needs_background": "light"
     },
     "output_type": "display_data"
    }
   ],
   "source": [
    "ypredicted = model.predict(xtest)\n",
    "ConfusionMatrix = confusion_matrix(ytest, ypredicted)\n",
    "FalseNegativeMap[\"Decision Tree\"] = ConfusionMatrix[1][0]\n",
    "sns.heatmap(ConfusionMatrix, square=True, annot=True, cmap='Blues', fmt='d', cbar=False, xticklabels=['Normal', 'Heart Disease'], yticklabels=['Normal', 'Heart Disease'])"
   ]
  },
  {
   "cell_type": "code",
   "execution_count": 129,
   "id": "98271cb5",
   "metadata": {},
   "outputs": [
    {
     "name": "stdout",
     "output_type": "stream",
     "text": [
      "               precision    recall  f1-score   support\n",
      "\n",
      "       Normal     0.9674    0.9805    0.9739       514\n",
      "Heart Disease     0.9762    0.9602    0.9681       427\n",
      "\n",
      "     accuracy                         0.9713       941\n",
      "    macro avg     0.9718    0.9704    0.9710       941\n",
      " weighted avg     0.9714    0.9713    0.9713       941\n",
      "\n"
     ]
    }
   ],
   "source": [
    "print(classification_report(ytest, ypredicted, target_names=['Normal', 'Heart Disease'], digits=4))"
   ]
  },
  {
   "cell_type": "markdown",
   "id": "b2425778",
   "metadata": {},
   "source": [
    "### Random Forest Model"
   ]
  },
  {
   "cell_type": "code",
   "execution_count": 130,
   "id": "dbb44caa",
   "metadata": {
    "scrolled": true
   },
   "outputs": [
    {
     "name": "stdout",
     "output_type": "stream",
     "text": [
      "train score : 1.0\n",
      "test score : 0.973432518597237\n"
     ]
    }
   ],
   "source": [
    "model = RandomForestClassifier()\n",
    "model.fit(xtrain, ytrain)\n",
    "print(f\"train score : {model.score(xtrain, ytrain)}\")\n",
    "print(f\"test score : {model.score(xtest, ytest)}\")\n",
    "\n",
    "trainAccuracyMap[\"Random Forest\"] = model.score(xtrain, ytrain)\n",
    "testAccuracyMap [\"Random Forest\"] = model.score(xtest, ytest)"
   ]
  },
  {
   "cell_type": "code",
   "execution_count": 131,
   "id": "65b3f888",
   "metadata": {},
   "outputs": [
    {
     "data": {
      "text/plain": [
       "<AxesSubplot:>"
      ]
     },
     "execution_count": 131,
     "metadata": {},
     "output_type": "execute_result"
    },
    {
     "data": {
      "image/png": "[encoded data removed]",
      "text/plain": [
       "<Figure size 432x288 with 1 Axes>"
      ]
     },
     "metadata": {
      "needs_background": "light"
     },
     "output_type": "display_data"
    }
   ],
   "source": [
    "ypredicted = model.predict(xtest)\n",
    "ConfusionMatrix = confusion_matrix(ytest, ypredicted)\n",
    "FalseNegativeMap[\"Random Forest\"] = ConfusionMatrix[1][0]\n",
    "sns.heatmap(ConfusionMatrix, square=True, annot=True, cmap='Blues', fmt='d', cbar=False, xticklabels=['Normal', 'Heart Disease'], yticklabels=['Normal', 'Heart Disease'])"
   ]
  },
  {
   "cell_type": "code",
   "execution_count": 132,
   "id": "e7246ca5",
   "metadata": {},
   "outputs": [
    {
     "name": "stdout",
     "output_type": "stream",
     "text": [
      "               precision    recall  f1-score   support\n",
      "\n",
      "       Normal     0.9622    0.9903    0.9760       514\n",
      "Heart Disease     0.9879    0.9532    0.9702       427\n",
      "\n",
      "     accuracy                         0.9734       941\n",
      "    macro avg     0.9750    0.9717    0.9731       941\n",
      " weighted avg     0.9738    0.9734    0.9734       941\n",
      "\n"
     ]
    }
   ],
   "source": [
    "print(classification_report(ytest, ypredicted, target_names=['Normal', 'Heart Disease'], digits=4))"
   ]
  },
  {
   "cell_type": "markdown",
   "id": "ba84325b",
   "metadata": {},
   "source": [
    "### KNN Model"
   ]
  },
  {
   "cell_type": "code",
   "execution_count": 133,
   "id": "46683cb4",
   "metadata": {},
   "outputs": [],
   "source": [
    "train_accuracy = []\n",
    "test_accuracy = []\n",
    "best_test_accuracy = 0\n",
    "best_i = 1\n",
    "\n",
    "neighbors_range = np.arange(1,101)\n",
    "for i in neighbors_range:\n",
    "\n",
    "    model = KNeighborsClassifier(n_neighbors=i)\n",
    "    model.fit(xtrain, ytrain)\n",
    "    \n",
    "    ypredicted = model.predict(xtrain)\n",
    "    score = accuracy_score(ytrain, ypredicted)\n",
    "    train_accuracy.append(score)\n",
    "\n",
    "    ypredicted = model.predict(xtest)\n",
    "    score = accuracy_score(ytest, ypredicted)\n",
    "    test_accuracy.append(score)\n",
    "    \n",
    "    if score > best_test_accuracy : \n",
    "        best_test_accuracy = score\n",
    "        best_i = i"
   ]
  },
  {
   "cell_type": "code",
   "execution_count": 134,
   "id": "08962d60",
   "metadata": {},
   "outputs": [
    {
     "name": "stdout",
     "output_type": "stream",
     "text": [
      "best n_neighbors is 1 with \n",
      "train accuracy = 1.0\n",
      "test_accuracy = 0.9872476089266737\n"
     ]
    },
    {
     "data": {
      "image/png": "[encoded data removed]",
      "text/plain": [
       "<Figure size 432x288 with 2 Axes>"
      ]
     },
     "metadata": {
      "needs_background": "light"
     },
     "output_type": "display_data"
    }
   ],
   "source": [
    "print(f\"best n_neighbors is {best_i} with \\ntrain accuracy = {train_accuracy[best_i-1]}\\ntest_accuracy = {test_accuracy[best_i-1]}\")\n",
    "\n",
    "trainAccuracyMap[\"KNN\"] = train_accuracy[best_i-1]\n",
    "testAccuracyMap [\"KNN\"] = test_accuracy[best_i-1]\n",
    "\n",
    "fig, a =  plt.subplots(1,2)\n",
    "a[0].plot(neighbors_range, train_accuracy)\n",
    "a[0].set_title('Train Accuracy')\n",
    "a[1].plot(neighbors_range, test_accuracy)\n",
    "a[1].set_title('Test Accuracy')\n",
    "fig.tight_layout()\n",
    "plt.show()\n"
   ]
  },
  {
   "cell_type": "code",
   "execution_count": 135,
   "id": "f3319815",
   "metadata": {},
   "outputs": [
    {
     "data": {
      "text/plain": [
       "<AxesSubplot:>"
      ]
     },
     "execution_count": 135,
     "metadata": {},
     "output_type": "execute_result"
    },
    {
     "data": {
      "image/png": "[encoded data removed]",
      "text/plain": [
       "<Figure size 432x288 with 1 Axes>"
      ]
     },
     "metadata": {
      "needs_background": "light"
     },
     "output_type": "display_data"
    }
   ],
   "source": [
    "model = KNeighborsClassifier(n_neighbors=best_i)\n",
    "model.fit(xtrain, ytrain)\n",
    "ypredicted = model.predict(xtest)\n",
    "ConfusionMatrix = confusion_matrix(ytest, ypredicted)\n",
    "FalseNegativeMap[\"KNN\"] = ConfusionMatrix[1][0]\n",
    "sns.heatmap(ConfusionMatrix, square=True, annot=True, cmap='Blues', fmt='d', cbar=False, xticklabels=['Normal', 'Heart Disease'], yticklabels=['Normal', 'Heart Disease'])"
   ]
  },
  {
   "cell_type": "code",
   "execution_count": 136,
   "id": "26bba6eb",
   "metadata": {},
   "outputs": [
    {
     "name": "stdout",
     "output_type": "stream",
     "text": [
      "               precision    recall  f1-score   support\n",
      "\n",
      "       Normal     0.9808    0.9961    0.9884       514\n",
      "Heart Disease     0.9952    0.9766    0.9858       427\n",
      "\n",
      "     accuracy                         0.9872       941\n",
      "    macro avg     0.9880    0.9863    0.9871       941\n",
      " weighted avg     0.9874    0.9872    0.9872       941\n",
      "\n"
     ]
    }
   ],
   "source": [
    "print(classification_report(ytest, ypredicted, target_names=['Normal', 'Heart Disease'], digits=4))"
   ]
  },
  {
   "cell_type": "markdown",
   "id": "8098096a",
   "metadata": {},
   "source": [
    "### sklearn's Perceptron Model"
   ]
  },
  {
   "cell_type": "code",
   "execution_count": 137,
   "id": "c7ec4260",
   "metadata": {},
   "outputs": [
    {
     "name": "stdout",
     "output_type": "stream",
     "text": [
      "MLP Train Accuracy: 98.55%\n",
      "MLP Test Accuracy: 96.92%\n"
     ]
    }
   ],
   "source": [
    "model = MLPClassifier(\n",
    "    max_iter=200,\n",
    "    alpha=0.1,\n",
    "    activation='logistic',\n",
    "    solver='adam',\n",
    "    random_state=7\n",
    ")\n",
    "model.fit(xtrain, ytrain)\n",
    "\n",
    "yTrainPredicted = model.predict(xtrain)\n",
    "yTestPredicted = model.predict(xtest)\n",
    "print('MLP Train Accuracy: {:.2f}%'.format(accuracy_score(ytrain, yTrainPredicted) * 100))\n",
    "print('MLP Test Accuracy: {:.2f}%'.format(accuracy_score(ytest, yTestPredicted) * 100))\n",
    "\n",
    "trainAccuracyMap[\"NN\"] = accuracy_score(ytrain, yTrainPredicted)\n",
    "testAccuracyMap [\"NN\"] = accuracy_score(ytest, yTestPredicted)"
   ]
  },
  {
   "cell_type": "code",
   "execution_count": 138,
   "id": "4835e99c",
   "metadata": {},
   "outputs": [
    {
     "data": {
      "text/plain": [
       "<AxesSubplot:>"
      ]
     },
     "execution_count": 138,
     "metadata": {},
     "output_type": "execute_result"
    },
    {
     "data": {
      "image/png": "[encoded data removed]",
      "text/plain": [
       "<Figure size 432x288 with 1 Axes>"
      ]
     },
     "metadata": {
      "needs_background": "light"
     },
     "output_type": "display_data"
    }
   ],
   "source": [
    "ypredicted = model.predict(xtest)\n",
    "ConfusionMatrix = confusion_matrix(ytest, ypredicted)\n",
    "FalseNegativeMap[\"NN\"] = ConfusionMatrix[1][0]\n",
    "sns.heatmap(ConfusionMatrix, square=True, annot=True, cmap='Blues', fmt='d', cbar=False, xticklabels=['Normal', 'Heart Disease'], yticklabels=['Normal', 'Heart Disease'])"
   ]
  },
  {
   "cell_type": "code",
   "execution_count": 139,
   "id": "2e4f0ed7",
   "metadata": {},
   "outputs": [
    {
     "name": "stdout",
     "output_type": "stream",
     "text": [
      "               precision    recall  f1-score   support\n",
      "\n",
      "       Normal     0.9550    0.9903    0.9723       514\n",
      "Heart Disease     0.9877    0.9438    0.9653       427\n",
      "\n",
      "     accuracy                         0.9692       941\n",
      "    macro avg     0.9714    0.9670    0.9688       941\n",
      " weighted avg     0.9698    0.9692    0.9691       941\n",
      "\n"
     ]
    }
   ],
   "source": [
    "print(classification_report(ytest, ypredicted, target_names=['Normal', 'Heart Disease'], digits=4))"
   ]
  },
  {
   "cell_type": "markdown",
   "id": "6419e546",
   "metadata": {},
   "source": [
    "### Linear Discriminant Analysis Model"
   ]
  },
  {
   "cell_type": "code",
   "execution_count": 140,
   "id": "7aa77b9e",
   "metadata": {},
   "outputs": [
    {
     "name": "stdout",
     "output_type": "stream",
     "text": [
      "LDA Train Accuracy: 0.9790854306983339\n",
      "LDA Test Accuracy: 0.9628055260361318\n"
     ]
    }
   ],
   "source": [
    "model = LinearDiscriminantAnalysis()\n",
    "model.fit(xtrain, ytrain)\n",
    "\n",
    "yTrainPredicted = model.predict(xtrain)\n",
    "yTestPredicted = model.predict(xtest)\n",
    "print(f'LDA Train Accuracy: {accuracy_score(ytrain, yTrainPredicted)}')\n",
    "print(f'LDA Test Accuracy: {accuracy_score(ytest, yTestPredicted)}')\n",
    "\n",
    "trainAccuracyMap[\"LDA\"] = accuracy_score(ytrain, yTrainPredicted)\n",
    "testAccuracyMap [\"LDA\"] = accuracy_score(ytest, yTestPredicted)"
   ]
  },
  {
   "cell_type": "code",
   "execution_count": 141,
   "id": "40ab4f56",
   "metadata": {},
   "outputs": [
    {
     "data": {
      "text/plain": [
       "<AxesSubplot:>"
      ]
     },
     "execution_count": 141,
     "metadata": {},
     "output_type": "execute_result"
    },
    {
     "data": {
      "image/png": "[encoded data removed]",
      "text/plain": [
       "<Figure size 432x288 with 1 Axes>"
      ]
     },
     "metadata": {
      "needs_background": "light"
     },
     "output_type": "display_data"
    }
   ],
   "source": [
    "ypredicted = model.predict(xtest)\n",
    "ConfusionMatrix = confusion_matrix(ytest, ypredicted)\n",
    "FalseNegativeMap[\"LDA\"] = ConfusionMatrix[1][0]\n",
    "sns.heatmap(ConfusionMatrix, square=True, annot=True, cmap='Blues', fmt='d', cbar=False, xticklabels=['Normal', 'Heart Disease'], yticklabels=['Normal', 'Heart Disease'])"
   ]
  },
  {
   "cell_type": "code",
   "execution_count": 142,
   "id": "3bb67636",
   "metadata": {},
   "outputs": [
    {
     "name": "stdout",
     "output_type": "stream",
     "text": [
      "               precision    recall  f1-score   support\n",
      "\n",
      "       Normal     0.9427    0.9922    0.9668       514\n",
      "Heart Disease     0.9900    0.9274    0.9577       427\n",
      "\n",
      "     accuracy                         0.9628       941\n",
      "    macro avg     0.9663    0.9598    0.9623       941\n",
      " weighted avg     0.9642    0.9628    0.9627       941\n",
      "\n"
     ]
    }
   ],
   "source": [
    "print(classification_report(ytest, ypredicted, target_names=['Normal', 'Heart Disease'], digits=4))"
   ]
  },
  {
   "cell_type": "markdown",
   "id": "5e76f6a0",
   "metadata": {},
   "source": [
    "### Gaussian Naive Bays Model"
   ]
  },
  {
   "cell_type": "code",
   "execution_count": 143,
   "id": "6df24315",
   "metadata": {},
   "outputs": [
    {
     "name": "stdout",
     "output_type": "stream",
     "text": [
      "GNB Train Accuracy: 0.967741935483871\n",
      "GNB Test Accuracy: 0.953241232731137\n"
     ]
    }
   ],
   "source": [
    "model = GaussianNB()\n",
    "model.fit(xtrain, ytrain)\n",
    "\n",
    "yTrainPredicted = model.predict(xtrain)\n",
    "yTestPredicted = model.predict(xtest)\n",
    "print(f'GNB Train Accuracy: {accuracy_score(ytrain, yTrainPredicted)}')\n",
    "print(f'GNB Test Accuracy: {accuracy_score(ytest, yTestPredicted)}')\n",
    "\n",
    "trainAccuracyMap[\"GNB\"] = accuracy_score(ytrain, yTrainPredicted)\n",
    "testAccuracyMap [\"GNB\"] = accuracy_score(ytest, yTestPredicted)"
   ]
  },
  {
   "cell_type": "code",
   "execution_count": 144,
   "id": "a8e7671d",
   "metadata": {},
   "outputs": [
    {
     "data": {
      "text/plain": [
       "<AxesSubplot:>"
      ]
     },
     "execution_count": 144,
     "metadata": {},
     "output_type": "execute_result"
    },
    {
     "data": {
      "image/png": "[encoded data removed]",
      "text/plain": [
       "<Figure size 432x288 with 1 Axes>"
      ]
     },
     "metadata": {
      "needs_background": "light"
     },
     "output_type": "display_data"
    }
   ],
   "source": [
    "ypredicted = model.predict(xtest)\n",
    "ConfusionMatrix = confusion_matrix(ytest, ypredicted)\n",
    "FalseNegativeMap[\"GNB\"] = ConfusionMatrix[1][0]\n",
    "sns.heatmap(ConfusionMatrix, square=True, annot=True, cmap='Blues', fmt='d', cbar=False, xticklabels=['Normal', 'Heart Disease'], yticklabels=['Normal', 'Heart Disease'])"
   ]
  },
  {
   "cell_type": "code",
   "execution_count": 145,
   "id": "24a96363",
   "metadata": {},
   "outputs": [
    {
     "name": "stdout",
     "output_type": "stream",
     "text": [
      "               precision    recall  f1-score   support\n",
      "\n",
      "       Normal     0.9288    0.9903    0.9586       514\n",
      "Heart Disease     0.9873    0.9087    0.9463       427\n",
      "\n",
      "     accuracy                         0.9532       941\n",
      "    macro avg     0.9581    0.9495    0.9525       941\n",
      " weighted avg     0.9554    0.9532    0.9530       941\n",
      "\n"
     ]
    }
   ],
   "source": [
    "print(classification_report(ytest, ypredicted, target_names=['Normal', 'Heart Disease'], digits=4))"
   ]
  },
  {
   "cell_type": "markdown",
   "id": "995ad1ec",
   "metadata": {},
   "source": [
    "### Models Visualization"
   ]
  },
  {
   "cell_type": "code",
   "execution_count": 146,
   "id": "9079d349",
   "metadata": {},
   "outputs": [
    {
     "data": {
      "text/plain": [
       "[Text(0, 3, '0.978746'),\n",
       " Text(0, 3, '0.974495'),\n",
       " Text(0, 3, '0.971307'),\n",
       " Text(0, 3, '0.973433'),\n",
       " Text(0, 3, '0.987248'),\n",
       " Text(0, 3, '0.969182'),\n",
       " Text(0, 3, '0.962806'),\n",
       " Text(0, 3, '0.953241')]"
      ]
     },
     "execution_count": 146,
     "metadata": {},
     "output_type": "execute_result"
    },
    {
     "data": {
      "image/png": "[encoded data removed]",
      "text/plain": [
       "<Figure size 1800x720 with 1 Axes>"
      ]
     },
     "metadata": {
      "needs_background": "light"
     },
     "output_type": "display_data"
    }
   ],
   "source": [
    "labels = trainAccuracyMap.keys()\n",
    "train_scores = trainAccuracyMap.values()\n",
    "test_scores = testAccuracyMap.values()\n",
    "\n",
    "x = np.arange(len(labels)) \n",
    "width = 0.25  \n",
    "\n",
    "fig, ax = plt.subplots(figsize=(25,15))\n",
    "rects1 = ax.bar(x - width/2, train_scores, width, label='Train Accuracy')\n",
    "rects2 = ax.bar(x + width/2, test_scores, width, label='Test Accuracy')\n",
    "\n",
    "\n",
    "ax.set_ylabel('Scores')\n",
    "ax.set_title('Models Scores')\n",
    "ax.set_xticks(x)\n",
    "ax.set_xticklabels(labels)\n",
    "ax.legend();\n",
    "ax.bar_label(rects1, padding=3) \n",
    "ax.bar_label(rects2, padding=3)"
   ]
  },
  {
   "cell_type": "code",
   "execution_count": 147,
   "id": "0f01f2ce",
   "metadata": {},
   "outputs": [],
   "source": [
    "AccuracyMap = {}\n",
    "for key, value in trainAccuracyMap.items():\n",
    "    AccuracyMap[key] = [value, testAccuracyMap[key], FalseNegativeMap[key]]"
   ]
  },
  {
   "cell_type": "code",
   "execution_count": 154,
   "id": "f02a1afb",
   "metadata": {},
   "outputs": [
    {
     "data": {
      "text/plain": [
       "[Text(0, 3, '0.967742'),\n",
       " Text(0, 3, '0.979085'),\n",
       " Text(0, 3, '0.985466'),\n",
       " Text(0, 3, '0.986175'),\n",
       " Text(0, 3, '0.988657'),\n",
       " Text(0, 3, '0.998937'),\n",
       " Text(0, 3, '1'),\n",
       " Text(0, 3, '1')]"
      ]
     },
     "execution_count": 154,
     "metadata": {},
     "output_type": "execute_result"
    },
    {
     "data": {
      "image/png": "[encoded data removed]",
      "text/plain": [
       "<Figure size 1800x936 with 1 Axes>"
      ]
     },
     "metadata": {
      "needs_background": "light"
     },
     "output_type": "display_data"
    }
   ],
   "source": [
    "AccuracyMap = dict(sorted(AccuracyMap.items(), key=lambda item: item[1][0]))\n",
    "labels = AccuracyMap.keys()\n",
    "train_scores = [val[0] for val in AccuracyMap.values()]\n",
    "\n",
    "x = np.arange(len(labels))\n",
    "\n",
    "fig, ax = plt.subplots(figsize=(25,15))\n",
    "rects1 = ax.bar(labels, train_scores, label='Train Accuracy', width=0.35)\n",
    "\n",
    "ax.set_ylabel('Scores')\n",
    "ax.set_title('Models Scores (Sorted based on Train Accuracy)')\n",
    "ax.set_xticks(x)\n",
    "ax.set_xticklabels(labels)\n",
    "ax.legend();\n",
    "ax.bar_label(rects1, padding=3) "
   ]
  },
  {
   "cell_type": "code",
   "execution_count": 159,
   "id": "fe2481ce",
   "metadata": {},
   "outputs": [
    {
     "data": {
      "text/plain": [
       "[Text(0, 3, '0.953241'),\n",
       " Text(0, 3, '0.962806'),\n",
       " Text(0, 3, '0.969182'),\n",
       " Text(0, 3, '0.971307'),\n",
       " Text(0, 3, '0.973433'),\n",
       " Text(0, 3, '0.974495'),\n",
       " Text(0, 3, '0.978746'),\n",
       " Text(0, 3, '0.987248')]"
      ]
     },
     "execution_count": 159,
     "metadata": {},
     "output_type": "execute_result"
    },
    {
     "data": {
      "image/png": "[encoded data removed]",
      "text/plain": [
       "<Figure size 1800x1080 with 1 Axes>"
      ]
     },
     "metadata": {
      "needs_background": "light"
     },
     "output_type": "display_data"
    }
   ],
   "source": [
    "AccuracyMap = dict(sorted(AccuracyMap.items(), key=lambda item: item[1][1]))\n",
    "labels = AccuracyMap.keys()\n",
    "test_scores = [val[1] for val in AccuracyMap.values()]\n",
    "\n",
    "x = np.arange(len(labels)) \n",
    "\n",
    "fig, ax = plt.subplots(figsize=(25,15))\n",
    "rects2 = ax.bar(labels, test_scores, color = \"orange\", label='Test Accuracy', width=0.35)\n",
    "\n",
    "ax.set_ylabel('Scores')\n",
    "ax.set_title('Models Scores (Sorted based on Test Accuracy)')\n",
    "ax.set_xticks(x)\n",
    "ax.set_xticklabels(labels)\n",
    "ax.legend();\n",
    "ax.bar_label(rects2, padding=3) "
   ]
  },
  {
   "cell_type": "code",
   "execution_count": 160,
   "id": "b7ad9694",
   "metadata": {},
   "outputs": [
    {
     "data": {
      "text/plain": [
       "[Text(0, 3, '10'),\n",
       " Text(0, 3, '14'),\n",
       " Text(0, 3, '17'),\n",
       " Text(0, 3, '19'),\n",
       " Text(0, 3, '20'),\n",
       " Text(0, 3, '24'),\n",
       " Text(0, 3, '31'),\n",
       " Text(0, 3, '39')]"
      ]
     },
     "execution_count": 160,
     "metadata": {},
     "output_type": "execute_result"
    },
    {
     "data": {
      "image/png": "[encoded data removed]",
      "text/plain": [
       "<Figure size 1800x1080 with 1 Axes>"
      ]
     },
     "metadata": {
      "needs_background": "light"
     },
     "output_type": "display_data"
    }
   ],
   "source": [
    "AccuracyMap = dict(sorted(AccuracyMap.items(), key=lambda item: item[1][2]))\n",
    "labels = AccuracyMap.keys()\n",
    "FalseNegativeCount = [val[2] for val in AccuracyMap.values()]\n",
    "\n",
    "x = np.arange(len(labels)) \n",
    "\n",
    "fig, ax = plt.subplots(figsize=(25,15))\n",
    "rects1 = ax.bar(labels, FalseNegativeCount,color=\"red\",  label='False Negative Count', width=0.35)\n",
    "\n",
    "ax.set_ylabel('Scores')\n",
    "ax.set_title('Models Scores (Sorted based on False Negative Count)')\n",
    "ax.set_xticks(x)\n",
    "ax.set_xticklabels(labels)\n",
    "ax.legend();\n",
    "ax.bar_label(rects1, padding=3) "
   ]
  }
 ],
 "metadata": {
  "interpreter": {
   "hash": "1ab41302091f60ef9ce5ea8ebb3486a23c4849fe8d7d2a196c724093f97fd8b3"
  },
  "kernelspec": {
   "display_name": "Python 3.9.6 64-bit",
   "language": "python",
   "name": "python3"
  },
  "language_info": {
   "codemirror_mode": {
    "name": "ipython",
    "version": 3
   },
   "file_extension": ".py",
   "mimetype": "text/x-python",
   "name": "python",
   "nbconvert_exporter": "python",
   "pygments_lexer": "ipython3",
   "version": "3.9.6"
  },
  "nbTranslate": {
   "displayLangs": [
    "*"
   ],
   "hotkey": "alt-t",
   "langInMainMenu": true,
   "sourceLang": "en",
   "targetLang": "fr",
   "useGoogleTranslate": true
  }
 },
 "nbformat": 4,
 "nbformat_minor": 5
}
